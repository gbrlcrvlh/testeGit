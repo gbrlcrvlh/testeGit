{
 "cells": [
  {
   "cell_type": "code",
   "execution_count": 3,
   "metadata": {},
   "outputs": [],
   "source": [
    "import numpy as np"
   ]
  },
  {
   "cell_type": "code",
   "execution_count": 61,
   "metadata": {},
   "outputs": [],
   "source": [
    "def createPopulation(popsize):\n",
    "    cr = np.random.randint(0,30, size=(popsize,4), dtype='int')\n",
    "    return cr\n",
    "\n",
    "def evaluate(cr):\n",
    "    return (abs(cr[0] + 2*cr[1] + 3*cr[2] + 4*cr[3] - 30))\n",
    "\n",
    "def selection(f_obj):\n",
    "    return (1/(1+f_obj))\n",
    "\n",
    "def calcProb(ftss, total):\n",
    "    return (ftss/total)\n",
    "\n",
    "def calcCumProb(ftss,popsize):\n",
    "    cp = np.random.randint(0, size=(popsize,), dtype='int')\n",
    "    cp[0] = ftss[0]\n",
    "    for i in range(1,popsize):\n",
    "        cp[i] = cp[i-1] + ftss[i]\n",
    "    return cp\n",
    "\n",
    "def routeWhell(popsize):\n",
    "    rw = np.random.random(popsize,)\n",
    "    return rw\n",
    "\n",
    "def calcNewGeneration(cr,rw,cp,popsize):\n",
    "    newcr = np.zeros(shape=(6,4), dtype='int')\n",
    "    for i in range(0,popsize):\n",
    "        for j in range(0,popsize-1):\n",
    "            if rw[i] > cp[j] and rw[i] < cp[j+1]:\n",
    "                newcr[i] = cr[j+1]\n",
    "            elif j==0:\n",
    "                newcr[i] = cr[j]\n",
    "    return newcr\n"
   ]
  },
  {
   "cell_type": "code",
   "execution_count": 51,
   "metadata": {},
   "outputs": [],
   "source": [
    "cr = np.zeros(shape=(6,4), dtype='int')\n",
    "cr[0] = [12,5,23,8]\n",
    "cr[1] = [2,21,18,3]\n",
    "cr[2] = [10,4,13,14]\n",
    "cr[3] = [20,1,10,6]\n",
    "cr[4] = [1,4,13,19]\n",
    "cr[5] = [20,5,17,1]\n",
    "\n",
    "f_obj = np.zeros(shape=(6,), dtype='int')\n",
    "fitss = np.zeros(shape=(6,), dtype='float')\n",
    "fitss_total = 0\n",
    "for i in range(0,6):\n",
    "    f_obj[i] = evaluate(cr[i])\n",
    "    fitss[i] = selection(f_obj[i])\n",
    "    fitss_total += fitss[i]"
   ]
  },
  {
   "cell_type": "code",
   "execution_count": 62,
   "metadata": {},
   "outputs": [
    {
     "data": {
      "text/plain": [
       "array([[ 2, 21, 18,  3],\n",
       "       [10,  4, 13, 14],\n",
       "       [12,  5, 23,  8],\n",
       "       [20,  5, 17,  1],\n",
       "       [10,  4, 13, 14],\n",
       "       [20,  1, 10,  6]])"
      ]
     },
     "execution_count": 62,
     "metadata": {},
     "output_type": "execute_result"
    }
   ],
   "source": [
    "rnd = np.zeros(shape=(6,), dtype='float')\n",
    "rnd = [0.201,0.284,0.099,0.822,0.398,0.501]\n",
    "#rnd = np.random.randint(0,1 size=(6,))\n",
    "probcr = np.zeros(shape=(6,), dtype='float')\n",
    "probcr_acm = np.zeros(shape=(6,), dtype='float')\n",
    "for i in range(0,6):\n",
    "    probcr[i] = calcProb(fitss[i],fitss_total)\n",
    "    if (i==0):\n",
    "        probcr_acm[i] = probcr[i]\n",
    "    else:\n",
    "        probcr_acm[i] = probcr_acm[i-1] + probcr[i]\n",
    "        \n",
    "newcr = calcNewGeneration(cr, rnd, probcr_acm, 6)\n",
    "newcr\n",
    "\n",
    "rnd = [0.191,0.259,0.760,0.006,0.159,0.340]"
   ]
  }
 ],
 "metadata": {
  "kernelspec": {
   "display_name": "Python 3",
   "language": "python",
   "name": "python3"
  },
  "language_info": {
   "codemirror_mode": {
    "name": "ipython",
    "version": 3
   },
   "file_extension": ".py",
   "mimetype": "text/x-python",
   "name": "python",
   "nbconvert_exporter": "python",
   "pygments_lexer": "ipython3",
   "version": "3.7.1"
  }
 },
 "nbformat": 4,
 "nbformat_minor": 2
}
