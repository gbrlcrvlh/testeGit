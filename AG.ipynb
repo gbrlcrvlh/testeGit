{
 "cells": [
  {
   "cell_type": "code",
   "execution_count": 115,
   "metadata": {},
   "outputs": [],
   "source": [
    "import numpy as np\n",
    "import random"
   ]
  },
  {
   "cell_type": "code",
   "execution_count": 134,
   "metadata": {},
   "outputs": [],
   "source": [
    "def createPopulation(popsize):\n",
    "    cr = np.random.randint(0,30, size=(popsize,4), dtype='int')\n",
    "    return cr\n",
    "\n",
    "def evaluate(cr):\n",
    "    return (abs(cr[0] + 2*cr[1] + 3*cr[2] + 4*cr[3] - 30))\n",
    "\n",
    "def selection(f_obj):\n",
    "    return (1/(1+f_obj))\n",
    "\n",
    "def calcProb(ftss, total):\n",
    "    return (ftss/total)\n",
    "\n",
    "def calcCumProb(ftss,popsize):\n",
    "    cp = np.random.randint(0, size=(popsize,), dtype='int')\n",
    "    cp[0] = ftss[0]\n",
    "    for i in range(1,popsize):\n",
    "        cp[i] = cp[i-1] + ftss[i]\n",
    "    return cp\n",
    "\n",
    "def routeWhell(popsize):\n",
    "    rw = np.random.random(popsize,)\n",
    "    return rw\n",
    "\n",
    "def calcNewGeneration(cr,rw,cp,popsize):\n",
    "    newcr = np.zeros(shape=(6,4), dtype='int')\n",
    "    for i in range(0,popsize):\n",
    "        for j in range(0,popsize-1):\n",
    "            if rw[i] > cp[j] and rw[i] < cp[j+1]:\n",
    "                newcr[i] = cr[j+1]\n",
    "            elif j==0:\n",
    "                newcr[i] = cr[j]\n",
    "    return newcr\n",
    "\n",
    "def crossOver(cr,i,j,rnd):\n",
    "    print(i,\"x\",j,\" \",rnd)\n",
    "    print(cr[i],cr[j])\n",
    "    cr[i][rnd:] = cr[j][rnd:]\n",
    "    print(cr[i],cr[j])\n",
    "    print(\"--------------\")"
   ]
  },
  {
   "cell_type": "code",
   "execution_count": 122,
   "metadata": {},
   "outputs": [],
   "source": [
    "cr = np.zeros(shape=(6,4), dtype='int')\n",
    "cr[0] = [12,5,23,8]\n",
    "cr[1] = [2,21,18,3]\n",
    "cr[2] = [10,4,13,14]\n",
    "cr[3] = [20,1,10,6]\n",
    "cr[4] = [1,4,13,19]\n",
    "cr[5] = [20,5,17,1]\n",
    "\n",
    "f_obj = np.zeros(shape=(6,), dtype='int')\n",
    "fitss = np.zeros(shape=(6,), dtype='float')\n",
    "fitss_total = 0\n",
    "for i in range(0,6):\n",
    "    f_obj[i] = evaluate(cr[i])\n",
    "    fitss[i] = selection(f_obj[i])\n",
    "    fitss_total += fitss[i]"
   ]
  },
  {
   "cell_type": "code",
   "execution_count": 123,
   "metadata": {},
   "outputs": [
    {
     "name": "stdout",
     "output_type": "stream",
     "text": [
      "[[ 2 21 18  3]\n",
      " [10  4 13 14]\n",
      " [12  5 23  8]\n",
      " [20  5 17  1]\n",
      " [10  4 13 14]\n",
      " [20  1 10  6]]\n"
     ]
    }
   ],
   "source": [
    "rnd = np.zeros(shape=(6,), dtype='float')\n",
    "rnd = [0.201,0.284,0.099,0.822,0.398,0.501]\n",
    "#rnd = np.random.randint(0,1 size=(6,))\n",
    "probcr = np.zeros(shape=(6,), dtype='float')\n",
    "probcr_acm = np.zeros(shape=(6,), dtype='float')\n",
    "for i in range(0,6):\n",
    "    probcr[i] = calcProb(fitss[i],fitss_total)\n",
    "    if (i==0):\n",
    "        probcr_acm[i] = probcr[i]\n",
    "    else:\n",
    "        probcr_acm[i] = probcr_acm[i-1] + probcr[i]\n",
    "        \n",
    "newcr = calcNewGeneration(cr, rnd, probcr_acm, 6)\n",
    "print(newcr)"
   ]
  },
  {
   "cell_type": "code",
   "execution_count": 135,
   "metadata": {},
   "outputs": [
    {
     "name": "stdout",
     "output_type": "stream",
     "text": [
      "0 x 3   2\n",
      "[ 2  5 17  1] [20  5 17 14]\n",
      "[ 2  5 17 14] [20  5 17 14]\n",
      "--------------\n",
      "3 x 4   3\n",
      "[20  5 17 14] [10 21 17  1]\n",
      "[20  5 17  1] [10 21 17  1]\n",
      "--------------\n",
      "4 x 0   2\n",
      "[10 21 17  1] [ 2  5 17 14]\n",
      "[10 21 17 14] [ 2  5 17 14]\n",
      "--------------\n",
      "[[ 2  5 17 14]\n",
      " [10  4 13 14]\n",
      " [12  5 23  8]\n",
      " [20  5 17  1]\n",
      " [10 21 17 14]\n",
      " [20  1 10  6]]\n"
     ]
    }
   ],
   "source": [
    "rnd = [0.191,0.259,0.760,0.006,0.159,0.340]\n",
    "for i in range(0,6):\n",
    "    if rnd[i] < 0.25:\n",
    "        k = i+1\n",
    "        if i>5:\n",
    "            k = 0\n",
    "        while(k < 6):\n",
    "            if rnd[k] < 0.25:\n",
    "                crossOver(newcr,i,k,random.randint(1,3))\n",
    "                break\n",
    "            k += 1\n",
    "            if k == 6:\n",
    "                k = 0\n",
    "print(newcr)"
   ]
  },
  {
   "cell_type": "code",
   "execution_count": 112,
   "metadata": {},
   "outputs": [
    {
     "name": "stdout",
     "output_type": "stream",
     "text": [
      "[3 3 8 5] [0 2 1 5]\n",
      "[0 2 1 5] [ 0  2  1 83]\n"
     ]
    }
   ],
   "source": [
    "a = np.random.randint(0,9, size=(4,), dtype='int')\n",
    "b = np.random.randint(0,9, size=(4,), dtype='int')\n",
    "print(a,b)\n",
    "a[0:] = b[0:]\n",
    "b[3] = 83\n",
    "print(a,b)"
   ]
  }
 ],
 "metadata": {
  "kernelspec": {
   "display_name": "Python 3",
   "language": "python",
   "name": "python3"
  },
  "language_info": {
   "codemirror_mode": {
    "name": "ipython",
    "version": 3
   },
   "file_extension": ".py",
   "mimetype": "text/x-python",
   "name": "python",
   "nbconvert_exporter": "python",
   "pygments_lexer": "ipython3",
   "version": "3.7.1"
  }
 },
 "nbformat": 4,
 "nbformat_minor": 2
}
